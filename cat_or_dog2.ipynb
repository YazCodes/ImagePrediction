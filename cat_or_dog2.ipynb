{
  "nbformat": 4,
  "nbformat_minor": 0,
  "metadata": {
    "colab": {
      "name": "cat_or_dog2.ipynb",
      "provenance": [],
      "mount_file_id": "https://github.com/YazCodes/ImagePrediction/blob/main/cat_or_dog2.ipynb",
      "authorship_tag": "ABX9TyN1xFHFX0JNQCJnRvIZibvm",
      "include_colab_link": true
    },
    "kernelspec": {
      "display_name": "Python 3",
      "name": "python3"
    }
  },
  "cells": [
    {
      "cell_type": "markdown",
      "metadata": {
        "id": "view-in-github",
        "colab_type": "text"
      },
      "source": [
        "<a href=\"https://colab.research.google.com/github/YazCodes/ImagePrediction/blob/main/cat_or_dog2.ipynb\" target=\"_parent\"><img src=\"https://colab.research.google.com/assets/colab-badge.svg\" alt=\"Open In Colab\"/></a>"
      ]
    },
    {
      "cell_type": "code",
      "metadata": {
        "id": "tdu6w6vQGW-5"
      },
      "source": [
        "import os\r\n",
        "import pandas as pd\r\n",
        "\r\n",
        "import zipfile\r\n",
        "\r\n",
        "import cv2\r\n",
        "import matplotlib.pyplot as plt\r\n",
        "import numpy as np\r\n",
        "\r\n",
        "from skimage.feature import hog\r\n",
        "\r\n",
        "from sklearn.model_selection import train_test_split\r\n",
        "\r\n",
        "from sklearn.decomposition import PCA\r\n",
        "\r\n",
        "# library for evaluation\r\n",
        "from sklearn import metrics\r\n",
        "\r\n",
        "# libraries for ML algorithms\r\n",
        "from sklearn import svm"
      ],
      "execution_count": 1,
      "outputs": []
    },
    {
      "cell_type": "code",
      "metadata": {
        "id": "jPD1mCezGn2b"
      },
      "source": [
        "# unzip data\r\n",
        "with zipfile.ZipFile(\"/content/drive/MyDrive/data (1).zip\", 'r') as zip_ref: \r\n",
        "    zip_ref.extractall(\"/content/\")"
      ],
      "execution_count": 2,
      "outputs": []
    },
    {
      "cell_type": "code",
      "metadata": {
        "colab": {
          "base_uri": "https://localhost:8080/",
          "height": 221
        },
        "id": "EnpnNnweGp78",
        "outputId": "1616da95-1846-4c35-e6e2-a2d39590aa97"
      },
      "source": [
        "# load training data\r\n",
        "df_train = pd.read_csv(\"/content/data/train.csv\")\r\n",
        "\r\n",
        "#Load test data \r\n",
        "df_test = pd.read_csv(\"/content/data/test.csv\")\r\n",
        "\r\n",
        "# summarise the details\r\n",
        "print(f'Number of entries: {len(df_train)}')\r\n",
        "df_train.head()"
      ],
      "execution_count": 3,
      "outputs": [
        {
          "output_type": "stream",
          "text": [
            "Number of entries: 10000\n"
          ],
          "name": "stdout"
        },
        {
          "output_type": "execute_result",
          "data": {
            "text/html": [
              "<div>\n",
              "<style scoped>\n",
              "    .dataframe tbody tr th:only-of-type {\n",
              "        vertical-align: middle;\n",
              "    }\n",
              "\n",
              "    .dataframe tbody tr th {\n",
              "        vertical-align: top;\n",
              "    }\n",
              "\n",
              "    .dataframe thead th {\n",
              "        text-align: right;\n",
              "    }\n",
              "</style>\n",
              "<table border=\"1\" class=\"dataframe\">\n",
              "  <thead>\n",
              "    <tr style=\"text-align: right;\">\n",
              "      <th></th>\n",
              "      <th>Id</th>\n",
              "      <th>Label</th>\n",
              "    </tr>\n",
              "  </thead>\n",
              "  <tbody>\n",
              "    <tr>\n",
              "      <th>0</th>\n",
              "      <td>1</td>\n",
              "      <td>cat</td>\n",
              "    </tr>\n",
              "    <tr>\n",
              "      <th>1</th>\n",
              "      <td>2</td>\n",
              "      <td>dog</td>\n",
              "    </tr>\n",
              "    <tr>\n",
              "      <th>2</th>\n",
              "      <td>3</td>\n",
              "      <td>cat</td>\n",
              "    </tr>\n",
              "    <tr>\n",
              "      <th>3</th>\n",
              "      <td>4</td>\n",
              "      <td>cat</td>\n",
              "    </tr>\n",
              "    <tr>\n",
              "      <th>4</th>\n",
              "      <td>5</td>\n",
              "      <td>cat</td>\n",
              "    </tr>\n",
              "  </tbody>\n",
              "</table>\n",
              "</div>"
            ],
            "text/plain": [
              "   Id Label\n",
              "0   1   cat\n",
              "1   2   dog\n",
              "2   3   cat\n",
              "3   4   cat\n",
              "4   5   cat"
            ]
          },
          "metadata": {
            "tags": []
          },
          "execution_count": 3
        }
      ]
    },
    {
      "cell_type": "code",
      "metadata": {
        "colab": {
          "base_uri": "https://localhost:8080/",
          "height": 305
        },
        "id": "vY1otjYcGweP",
        "outputId": "56b4eb77-2fe8-4213-d283-c876c78254ae"
      },
      "source": [
        "# Summarise label details in training data\r\n",
        "temp_df = df_train.groupby('Label').count()\r\n",
        "temp_df.plot.bar()"
      ],
      "execution_count": 4,
      "outputs": [
        {
          "output_type": "execute_result",
          "data": {
            "text/plain": [
              "<matplotlib.axes._subplots.AxesSubplot at 0x7ff79de02518>"
            ]
          },
          "metadata": {
            "tags": []
          },
          "execution_count": 4
        },
        {
          "output_type": "display_data",
          "data": {
            "image/png": "[encoded data removed]",
            "text/plain": [
              "<Figure size 432x288 with 1 Axes>"
            ]
          },
          "metadata": {
            "tags": [],
            "needs_background": "light"
          }
        }
      ]
    },
    {
      "cell_type": "code",
      "metadata": {
        "id": "x406ughgGz2Y"
      },
      "source": [
        "# method to load images\r\n",
        "# parameters\r\n",
        "# ids - list of image ids\r\n",
        "# folder_path - path to image folder\r\n",
        "# dim - dimensions to resize images\r\n",
        "def load_images(ids, folder_path, dim):\r\n",
        "  images = []\r\n",
        "  for id in ids:\r\n",
        "    image_path = os.path.join(folder_path, \"{}.jpg\".format(id))\r\n",
        "    img = cv2.imread(image_path)\r\n",
        "\r\n",
        "    # Resize if necessary  - only for the images where the width and height is not equal to the given dimentions \r\n",
        "    if img.shape[0] != dim[1] or img.shape[1] != dim[0]: #f not = \r\n",
        "      img = cv2.resize(img, dim) #then resize \r\n",
        "    images.append(img)\r\n",
        "  return images #needs to be OUTSIDE the for loop "
      ],
      "execution_count": 5,
      "outputs": []
    },
    {
      "cell_type": "code",
      "metadata": {
        "colab": {
          "base_uri": "https://localhost:8080/"
        },
        "id": "srGrrMEZG8H3",
        "outputId": "fc9553ee-32c8-4368-9edf-e7e557a33a88"
      },
      "source": [
        "base_dim = (200, 200) #width and height\r\n",
        "\r\n",
        "# load train images\r\n",
        "train_image_folder =\"/content/data/train_images\" #copy path from the folder \r\n",
        "train_images = load_images(df_train['Id'], train_image_folder, base_dim) # all the training folder images are loaded\r\n",
        "print(f'Number of training images loaded: {len(train_images)}') #print out the lengh of train_image\r\n",
        "\r\n",
        "# load test images\r\n",
        "test_image_folder = \"/content/data/test_images\"\r\n",
        "test_images = load_images(df_test['Id'], test_image_folder, base_dim)\r\n",
        "print(f'Number of testing images loaded: {len(test_images)}')"
      ],
      "execution_count": 6,
      "outputs": [
        {
          "output_type": "stream",
          "text": [
            "Number of training images loaded: 10000\n",
            "Number of testing images loaded: 1000\n"
          ],
          "name": "stdout"
        }
      ]
    },
    {
      "cell_type": "code",
      "metadata": {
        "id": "VCQneX7uG_oK"
      },
      "source": [
        "#Feature extraction \r\n",
        "# Feature extraction helps to get the best feature from those big data sets by select and combine variables into features, thus, effectively reducing the amount of data.\r\n",
        "#without losing any important or relevant information\r\n",
        "\r\n",
        "#Confusion Matrix \r\n",
        "#confusion matrix is a performance measurement technique for Machine learning classification. It is a kind of table which helps you to the know the performance of the classification model on a set of test data for that the true values are known.\r\n",
        "\r\n",
        "# method to plot confusion matrix\r\n",
        "def plot_confusion_matrix(matrix):\r\n",
        "    plt.clf()\r\n",
        "    plt.imshow(matrix, interpolation='nearest', cmap=plt.cm.Set2_r)\r\n",
        "    classNames = ['dog', 'cat'] #Make sure the class names corrispond to the label names in the dataset colomn \r\n",
        "    plt.title('Confusion Matrix')\r\n",
        "    plt.ylabel('Predicted')\r\n",
        "    plt.xlabel('Actual')\r\n",
        "    tick_marks = np.arange(len(classNames))\r\n",
        "    plt.xticks(tick_marks, classNames)\r\n",
        "    plt.yticks(tick_marks, classNames)\r\n",
        "    s = [['TP','FP'], ['FN', 'TN']]\r\n",
        "\r\n",
        "    for i in range(2):\r\n",
        "        for j in range(2):\r\n",
        "            plt.text(j,i, str(s[i][j])+\" = \"+str(matrix[i][j]))\r\n",
        "    plt.show()\r\n",
        "\r\n",
        "# method to calculate evaluation results\r\n",
        "def evaluate(actuals, predictions):\r\n",
        "  accuracy = metrics.accuracy_score(actuals, predictions)\r\n",
        "  confusion_matrix = metrics.confusion_matrix(actuals, predictions, labels=['dog', 'cat']) #Make sure the labels corrispond to the label names in the dataset colomn \r\n",
        "  return accuracy, confusion_matrix\r\n",
        "\r\n",
        "  #same as sentiment analysis "
      ],
      "execution_count": 7,
      "outputs": []
    },
    {
      "cell_type": "code",
      "metadata": {
        "id": "6LgLWS-MHFps"
      },
      "source": [
        "#SVM\r\n",
        "# method to train and predict using SVM classifier\r\n",
        "def get_svm_predictions(X_train, X_val, y_train, y_val):\r\n",
        "  # build model\r\n",
        "  clf = svm.SVC(kernel='linear', random_state=100) \r\n",
        "  clf.fit(X_train, y_train)\r\n",
        "\r\n",
        "  # Make predictions on test data\r\n",
        "  y_pred = clf.predict(X_val)\r\n",
        "\r\n",
        "  # evaluation\r\n",
        "  accuracy, confusion_matrix = evaluate(y_val, y_pred)\r\n",
        "  print(f'Accuracy: {accuracy}')\r\n",
        "  plot_confusion_matrix(confusion_matrix)\r\n",
        "\r\n",
        "  return clf"
      ],
      "execution_count": 8,
      "outputs": []
    },
    {
      "cell_type": "code",
      "metadata": {
        "id": "QMP7wk4_HJ7C"
      },
      "source": [
        "#Model One\r\n",
        "\r\n",
        "#Model one - have to do preprocessing and feature extracyion on every image - created a function \r\n",
        "# method to get image features\r\n",
        "def get_features_m1(images):\r\n",
        "  features_list = []\r\n",
        "  for img in images:\r\n",
        "    # image preprocessing\r\n",
        "    img_grayscaled = cv2.cvtColor(img, cv2.COLOR_BGR2GRAY)\r\n",
        "\r\n",
        "    # vectorise/ feature extraction\r\n",
        "    features = img_grayscaled.flatten()\r\n",
        "\r\n",
        "    features_list.append(features)\r\n",
        "\r\n",
        "  features_list = np.array(features_list)\r\n",
        "  return features_list"
      ],
      "execution_count": 9,
      "outputs": []
    },
    {
      "cell_type": "code",
      "metadata": {
        "colab": {
          "base_uri": "https://localhost:8080/",
          "height": 329
        },
        "id": "VBoKulz2HOO-",
        "outputId": "7e6ef550-81f5-4581-9e91-ddb246272e3e"
      },
      "source": [
        "# feature extraction\r\n",
        "features_train = get_features_m1(train_images)\r\n",
        "print(features_train.shape)\r\n",
        "\r\n",
        "# data split for train and validation\r\n",
        "X_train, X_val, y_train, y_val = train_test_split(features_train, df_train['Label'], test_size=0.3, random_state=100)\r\n",
        "\r\n",
        "# train and validation\r\n",
        "model = get_svm_predictions(X_train, X_val, y_train, y_val)\r\n",
        "\r\n"
      ],
      "execution_count": 10,
      "outputs": [
        {
          "output_type": "stream",
          "text": [
            "(10000, 40000)\n",
            "Accuracy: 0.516\n"
          ],
          "name": "stdout"
        },
        {
          "output_type": "display_data",
          "data": {
            "image/png": "[encoded data removed]",
            "text/plain": [
              "<Figure size 432x288 with 1 Axes>"
            ]
          },
          "metadata": {
            "tags": [],
            "needs_background": "light"
          }
        }
      ]
    },
    {
      "cell_type": "code",
      "metadata": {
        "id": "5JrwJEMGHU3p"
      },
      "source": [
        "# feature extraction - test data\r\n",
        "features_test = get_features_m1(test_images)\r\n",
        "print(features_test.shape)\r\n",
        "\r\n",
        "# get model predictions\r\n",
        "predictions = model.predict(features_test)\r\n",
        "print(predictions) \r\n",
        "\r\n",
        "df_test[\"Label\"] - predictions #Adding the predictions to the label column \r\n",
        "\r\n",
        "## save data frame to .csv file\r\n",
        "df_test.to_csv('/content/test-predictions.csv', index=False)"
      ],
      "execution_count": null,
      "outputs": []
    }
  ]
}